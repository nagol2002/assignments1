{
 "cells": [
  {
   "cell_type": "markdown",
   "id": "8f238316-b81c-45ef-abb5-a34233ba5eae",
   "metadata": {},
   "source": [
    "Topic:python basics"
   ]
  },
  {
   "cell_type": "markdown",
   "id": "8a1cacf7-5987-495c-91b0-0c6df91be7e0",
   "metadata": {},
   "source": [
    "1. Declare two variables, `x` and `y`, and assign them integer values. Swap the\n",
    "values of these variables without using any temporary variable.\n"
   ]
  },
  {
   "cell_type": "markdown",
   "id": "eefa1222-44a0-4a81-99dc-27dd4fb19162",
   "metadata": {},
   "source": [
    "ans:-"
   ]
  },
  {
   "cell_type": "code",
   "execution_count": 1,
   "id": "75aa2c3e-f723-4ac2-abdf-aa5af28809a7",
   "metadata": {},
   "outputs": [],
   "source": [
    "x=35\n",
    "y=56"
   ]
  },
  {
   "cell_type": "code",
   "execution_count": 3,
   "id": "d4b09cb0-aecf-4751-ae50-b6607103fff4",
   "metadata": {},
   "outputs": [
    {
     "name": "stdout",
     "output_type": "stream",
     "text": [
      "the values of x and y before swapping  \n"
     ]
    }
   ],
   "source": [
    "print(\"the values of x and y before swapping  \")"
   ]
  },
  {
   "cell_type": "code",
   "execution_count": 4,
   "id": "5feb8a00-c24a-41be-9e84-b40690940827",
   "metadata": {},
   "outputs": [],
   "source": [
    "x,y=y,x"
   ]
  },
  {
   "cell_type": "code",
   "execution_count": 7,
   "id": "b6310f46-542d-46d4-ab4f-02c12b9a376e",
   "metadata": {},
   "outputs": [
    {
     "name": "stdout",
     "output_type": "stream",
     "text": [
      "the values of x and y after swapping x: 56 y: 35\n"
     ]
    }
   ],
   "source": [
    "print(\"the values of x and y after swapping x:\",x,\"y:\",y)"
   ]
  },
  {
   "cell_type": "markdown",
   "id": "243bba39-2905-456b-a600-7b5c1ca2eecc",
   "metadata": {},
   "source": [
    "2. Create a program that calculates the area of a rectangle. Take the length and\n",
    "width as inputs from the user and store them in variables. Calculate and\n",
    "display the area."
   ]
  },
  {
   "cell_type": "markdown",
   "id": "43be78e1-41bf-4d95-87de-8ca33f32c897",
   "metadata": {},
   "source": [
    "ANS:-"
   ]
  },
  {
   "cell_type": "code",
   "execution_count": 12,
   "id": "4037dc93-514d-40c0-823e-0b05d2775139",
   "metadata": {},
   "outputs": [
    {
     "name": "stdin",
     "output_type": "stream",
     "text": [
      " 67\n"
     ]
    }
   ],
   "source": [
    "length=int(input())"
   ]
  },
  {
   "cell_type": "code",
   "execution_count": 13,
   "id": "fe792c47-b667-4a45-93e5-b720ec9643a0",
   "metadata": {},
   "outputs": [
    {
     "name": "stdin",
     "output_type": "stream",
     "text": [
      " 34\n"
     ]
    }
   ],
   "source": [
    "width=int(input())"
   ]
  },
  {
   "cell_type": "code",
   "execution_count": 14,
   "id": "d72970b4-eedb-487c-8a1f-b8be0d3a153e",
   "metadata": {},
   "outputs": [],
   "source": [
    "area=length*width"
   ]
  },
  {
   "cell_type": "code",
   "execution_count": 15,
   "id": "52dc0d1a-6027-496a-b058-cced0954a1fe",
   "metadata": {},
   "outputs": [
    {
     "name": "stdout",
     "output_type": "stream",
     "text": [
      "the area of the rectangle is : 2278\n"
     ]
    }
   ],
   "source": [
    "print(\"the area of the rectangle is :\",area )"
   ]
  },
  {
   "cell_type": "markdown",
   "id": "088e73ab-4138-4357-9d6a-c8f1dd496a2e",
   "metadata": {},
   "source": [
    "3. Write a Python program that converts temperatures from Celsius to\n",
    "Fahrenheit. Take the temperature in Celsius as input, store it in a variable,\n",
    "convert it to Fahrenheit, and display the result."
   ]
  },
  {
   "cell_type": "markdown",
   "id": "83e9fe88-d7b8-40e6-aa1d-764ab3a97e1f",
   "metadata": {},
   "source": [
    "ans:-"
   ]
  },
  {
   "cell_type": "code",
   "execution_count": 16,
   "id": "2169fcc8-0745-42c1-8d96-79d566b566b9",
   "metadata": {},
   "outputs": [
    {
     "name": "stdin",
     "output_type": "stream",
     "text": [
      " 56\n"
     ]
    }
   ],
   "source": [
    "celsius=float(input())"
   ]
  },
  {
   "cell_type": "code",
   "execution_count": 17,
   "id": "31997b2f-5a0b-42a1-b294-3cfca03b0ef8",
   "metadata": {},
   "outputs": [
    {
     "name": "stdout",
     "output_type": "stream",
     "text": [
      "the celsius are converted into fahrenheit are\n"
     ]
    }
   ],
   "source": [
    "print(\"the celsius are converted into fahrenheit are\")"
   ]
  },
  {
   "cell_type": "code",
   "execution_count": 18,
   "id": "efab5bb3-bb69-4eef-b2e5-c10b9f3fa134",
   "metadata": {},
   "outputs": [],
   "source": [
    "fahrenheit=(celsius*1.8)+32"
   ]
  },
  {
   "cell_type": "code",
   "execution_count": 19,
   "id": "a664d0b9-8d65-4bf1-8f33-19d3210dd2ff",
   "metadata": {},
   "outputs": [
    {
     "name": "stdout",
     "output_type": "stream",
     "text": [
      "132.8\n"
     ]
    }
   ],
   "source": [
    "print(fahrenheit)"
   ]
  },
  {
   "cell_type": "markdown",
   "id": "0ca451a9-73ef-4b8e-ab4d-fd6d62aabbf8",
   "metadata": {},
   "source": [
    "TOPIC: String Based Questions"
   ]
  },
  {
   "cell_type": "markdown",
   "id": "c46f138e-4e64-4303-af76-7ee6a372d4b8",
   "metadata": {},
   "source": [
    "1. Write a Python program that takes a string as input and prints the length of\n",
    "the string."
   ]
  },
  {
   "cell_type": "markdown",
   "id": "7b69153f-ae83-40a6-8fa4-5de859edcf79",
   "metadata": {},
   "source": [
    "ans:-"
   ]
  },
  {
   "cell_type": "code",
   "execution_count": 21,
   "id": "c2739e69-16ec-4e3f-92d0-478c4827638c",
   "metadata": {},
   "outputs": [
    {
     "name": "stdin",
     "output_type": "stream",
     "text": [
      " nsr\n"
     ]
    }
   ],
   "source": [
    "string=str(input())"
   ]
  },
  {
   "cell_type": "code",
   "execution_count": 22,
   "id": "e19a0e17-59b7-4faf-b57e-adef2dff715e",
   "metadata": {},
   "outputs": [
    {
     "name": "stdout",
     "output_type": "stream",
     "text": [
      "the length of the string is :-\n"
     ]
    }
   ],
   "source": [
    "print(\"the length of the string is :-\")"
   ]
  },
  {
   "cell_type": "code",
   "execution_count": 24,
   "id": "af05d518-049a-4d16-8dde-b6a14742ee00",
   "metadata": {},
   "outputs": [
    {
     "name": "stdout",
     "output_type": "stream",
     "text": [
      "3\n"
     ]
    }
   ],
   "source": [
    "print(len(string))"
   ]
  },
  {
   "cell_type": "markdown",
   "id": "cb5b270c-b23c-40a8-8c23-1d85ebb261fc",
   "metadata": {},
   "source": [
    "2. Create a program that takes a sentence from the user and counts the number\n",
    "of vowels (a, e, i, o, u) in the string."
   ]
  },
  {
   "cell_type": "code",
   "execution_count": 25,
   "id": "95bec011-5bc8-4084-bdba-e0ee5b9ccb11",
   "metadata": {},
   "outputs": [],
   "source": [
    "school=\"our school is at no 1 in our state\""
   ]
  },
  {
   "cell_type": "code",
   "execution_count": 26,
   "id": "e0c96d2b-a2eb-45c8-9eaa-e2e8c1dbef3f",
   "metadata": {},
   "outputs": [
    {
     "name": "stdout",
     "output_type": "stream",
     "text": [
      "the number of vowels in the sentence above is :-\n"
     ]
    }
   ],
   "source": [
    "print(\"the number of vowels in the sentence above is :-\")"
   ]
  },
  {
   "cell_type": "code",
   "execution_count": 29,
   "id": "fd1a0365-0f05-440f-9a11-0cc9210cfede",
   "metadata": {},
   "outputs": [
    {
     "name": "stdout",
     "output_type": "stream",
     "text": [
      "12\n"
     ]
    }
   ],
   "source": [
    "print(school.count('a')+school.count('e')+school.count('i')+school.count('o')+school.count('u'))"
   ]
  },
  {
   "cell_type": "markdown",
   "id": "6ed07d00-7897-4631-aed4-541220bfd634",
   "metadata": {},
   "source": [
    "3. Given a string, reverse the order of characters using string slicing and print\n",
    "the reversed string."
   ]
  },
  {
   "cell_type": "markdown",
   "id": "9b175f77-4fef-4e36-9e5a-98cdf06ce98a",
   "metadata": {},
   "source": [
    "ans:-"
   ]
  },
  {
   "cell_type": "code",
   "execution_count": 30,
   "id": "47f1d658-0347-4675-80ac-35d97cb529db",
   "metadata": {},
   "outputs": [],
   "source": [
    "d=\"rohit sharma\""
   ]
  },
  {
   "cell_type": "code",
   "execution_count": null,
   "id": "c7600e16-bac3-4608-b10f-a8b7cb728b84",
   "metadata": {},
   "outputs": [],
   "source": []
  },
  {
   "cell_type": "code",
   "execution_count": 31,
   "id": "47bbc4fd-456b-4bb4-8e6f-0fee0c300e55",
   "metadata": {},
   "outputs": [
    {
     "name": "stdout",
     "output_type": "stream",
     "text": [
      "the string before reversing: rohit sharma\n"
     ]
    }
   ],
   "source": [
    "print(\"the string before reversing:\",d)"
   ]
  },
  {
   "cell_type": "code",
   "execution_count": 33,
   "id": "dea339e0-172a-4c97-a021-2c5a74bd5c31",
   "metadata": {},
   "outputs": [
    {
     "name": "stdout",
     "output_type": "stream",
     "text": [
      "amrahs tihor\n"
     ]
    }
   ],
   "source": [
    "print(d[::-1])"
   ]
  },
  {
   "cell_type": "code",
   "execution_count": 35,
   "id": "fedaf9d9-936d-4033-902a-f934aa69cad3",
   "metadata": {},
   "outputs": [
    {
     "name": "stdout",
     "output_type": "stream",
     "text": [
      "amrahs tihor\n"
     ]
    }
   ],
   "source": [
    "print(d[12::-1])"
   ]
  },
  {
   "cell_type": "markdown",
   "id": "4ac7b9e8-8e08-4c77-b041-d9895a0fb023",
   "metadata": {},
   "source": [
    "4. Write a program that takes a string as input and checks if it is a palindrome\n",
    "(reads the same forwards and backwards)."
   ]
  },
  {
   "cell_type": "markdown",
   "id": "ceda04d7-5400-42ce-a1c4-1bdd54013e45",
   "metadata": {},
   "source": [
    "ans:- none"
   ]
  },
  {
   "cell_type": "markdown",
   "id": "f48c3204-713b-422f-af93-59a22c04a16c",
   "metadata": {},
   "source": [
    "5. Create a program that takes a string as input and removes all the spaces from\n",
    "it. Print the modified string without spaces."
   ]
  },
  {
   "cell_type": "markdown",
   "id": "9d690630-f934-48d7-a0c5-e3110cacdda1",
   "metadata": {},
   "source": [
    "ans:-none"
   ]
  },
  {
   "cell_type": "code",
   "execution_count": null,
   "id": "8b832c44-f116-4de5-9c5f-7caf5b1d3f8d",
   "metadata": {},
   "outputs": [],
   "source": []
  }
 ],
 "metadata": {
  "kernelspec": {
   "display_name": "Python 3 (ipykernel)",
   "language": "python",
   "name": "python3"
  },
  "language_info": {
   "codemirror_mode": {
    "name": "ipython",
    "version": 3
   },
   "file_extension": ".py",
   "mimetype": "text/x-python",
   "name": "python",
   "nbconvert_exporter": "python",
   "pygments_lexer": "ipython3",
   "version": "3.10.8"
  }
 },
 "nbformat": 4,
 "nbformat_minor": 5
}
